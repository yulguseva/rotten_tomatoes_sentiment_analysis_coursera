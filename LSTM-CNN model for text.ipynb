{
  "cells": [
    {
      "metadata": {
        "_uuid": "4a522923921bcb81324a8da1dfa477ee63ecefdf"
      },
      "cell_type": "markdown",
      "source": "# Movie Review Sentiment Analysis"
    },
    {
      "metadata": {
        "trusted": true,
        "_uuid": "1e72444b737db4452f185311a1b297363c5ad979"
      },
      "cell_type": "code",
      "source": "# This Python 3 environment comes with many helpful analytics libraries installed\n# It is defined by the kaggle/python docker image: https://github.com/kaggle/docker-python\n# For example, here's several helpful packages to load in \n\nimport numpy as np # linear algebra\nimport pandas as pd # data processing, CSV file I/O (e.g. pd.read_csv)\nfrom sklearn.model_selection import train_test_split\nimport keras\nprint('Keras version', keras.__version__)\nfrom keras.preprocessing.text import Tokenizer\nfrom keras.preprocessing.sequence import pad_sequences\nfrom keras.utils import to_categorical\nfrom keras.layers import (Input, Dense, Embedding, LSTM, Flatten,  \n                        SpatialDropout1D,  MaxPooling1D, Concatenate, \n                        Conv1D, Dropout, BatchNormalization, Activation)\nfrom keras.callbacks import ModelCheckpoint\nfrom keras.optimizers import Adam, SGD, Nadam\nfrom keras.models import Model, Sequential\nfrom keras import backend as K\n\n# Input data files are available in the \"../input/\" directory.\n# For example, running this (by clicking run or pressing Shift+Enter) will list the files in the input directory\n\nimport os\nprint(os.listdir(\"../input\"))",
      "execution_count": 1,
      "outputs": [
        {
          "output_type": "stream",
          "text": "/opt/conda/lib/python3.6/site-packages/h5py/__init__.py:36: FutureWarning: Conversion of the second argument of issubdtype from `float` to `np.floating` is deprecated. In future, it will be treated as `np.float64 == np.dtype(float).type`.\n  from ._conv import register_converters as _register_converters\nUsing TensorFlow backend.\n",
          "name": "stderr"
        },
        {
          "output_type": "stream",
          "text": "Keras version 2.1.5\n['train.tsv', 'test.tsv', 'sampleSubmission.csv']\n",
          "name": "stdout"
        }
      ]
    },
    {
      "metadata": {
        "_uuid": "d2a3cb7a22f03f796daa51d9277d4638476e78c6"
      },
      "cell_type": "markdown",
      "source": "## Quick analysis"
    },
    {
      "metadata": {
        "_uuid": "fe9bea8997b071d685f1de945a81c1a859a17eac"
      },
      "cell_type": "markdown",
      "source": "Data is a set of sentences labeled with sentiments from 0 (negative) to 4 (positive). "
    },
    {
      "metadata": {
        "trusted": true,
        "_uuid": "260fc877163753bb35d737dd95b0b55fc33b073f"
      },
      "cell_type": "code",
      "source": "train = pd.read_csv('../input/train.tsv',  sep=\"\\t\")\ntest = pd.read_csv('../input/test.tsv',  sep=\"\\t\")\ntrain.head()",
      "execution_count": 2,
      "outputs": [
        {
          "output_type": "execute_result",
          "execution_count": 2,
          "data": {
            "text/plain": "   PhraseId  SentenceId                                             Phrase  \\\n0         1           1  A series of escapades demonstrating the adage ...   \n1         2           1  A series of escapades demonstrating the adage ...   \n2         3           1                                           A series   \n3         4           1                                                  A   \n4         5           1                                             series   \n\n   Sentiment  \n0          1  \n1          2  \n2          2  \n3          2  \n4          2  ",
            "text/html": "<div>\n<style scoped>\n    .dataframe tbody tr th:only-of-type {\n        vertical-align: middle;\n    }\n\n    .dataframe tbody tr th {\n        vertical-align: top;\n    }\n\n    .dataframe thead th {\n        text-align: right;\n    }\n</style>\n<table border=\"1\" class=\"dataframe\">\n  <thead>\n    <tr style=\"text-align: right;\">\n      <th></th>\n      <th>PhraseId</th>\n      <th>SentenceId</th>\n      <th>Phrase</th>\n      <th>Sentiment</th>\n    </tr>\n  </thead>\n  <tbody>\n    <tr>\n      <th>0</th>\n      <td>1</td>\n      <td>1</td>\n      <td>A series of escapades demonstrating the adage ...</td>\n      <td>1</td>\n    </tr>\n    <tr>\n      <th>1</th>\n      <td>2</td>\n      <td>1</td>\n      <td>A series of escapades demonstrating the adage ...</td>\n      <td>2</td>\n    </tr>\n    <tr>\n      <th>2</th>\n      <td>3</td>\n      <td>1</td>\n      <td>A series</td>\n      <td>2</td>\n    </tr>\n    <tr>\n      <th>3</th>\n      <td>4</td>\n      <td>1</td>\n      <td>A</td>\n      <td>2</td>\n    </tr>\n    <tr>\n      <th>4</th>\n      <td>5</td>\n      <td>1</td>\n      <td>series</td>\n      <td>2</td>\n    </tr>\n  </tbody>\n</table>\n</div>"
          },
          "metadata": {}
        }
      ]
    },
    {
      "metadata": {
        "_uuid": "ed6ed34a6e3c5f3242e8c2eb63f2e38146ddcce6"
      },
      "cell_type": "markdown",
      "source": "As we can see sentences are divided into phrases to analyse. Lets take a look how the sentence number 10 is represented in the data:"
    },
    {
      "metadata": {
        "trusted": true,
        "_uuid": "ca240ee3ab98c360cbd862e01e0d0d9010eb0c24"
      },
      "cell_type": "code",
      "source": "train.loc[train.SentenceId == 10]",
      "execution_count": 3,
      "outputs": [
        {
          "output_type": "execute_result",
          "execution_count": 3,
          "data": {
            "text/plain": "     PhraseId  SentenceId                                   Phrase  Sentiment\n259       260          10  You could hate it for the same reason .          1\n260       261          10      could hate it for the same reason .          1\n261       262          10        could hate it for the same reason          0\n262       263          10                                    could          2\n263       264          10              hate it for the same reason          1\n264       265          10                                  hate it          0\n265       266          10                                     hate          0\n266       267          10                      for the same reason          2\n267       268          10                          the same reason          2\n268       269          10                              same reason          2\n269       270          10                                     same          2\n270       271          10                                   reason          2",
            "text/html": "<div>\n<style scoped>\n    .dataframe tbody tr th:only-of-type {\n        vertical-align: middle;\n    }\n\n    .dataframe tbody tr th {\n        vertical-align: top;\n    }\n\n    .dataframe thead th {\n        text-align: right;\n    }\n</style>\n<table border=\"1\" class=\"dataframe\">\n  <thead>\n    <tr style=\"text-align: right;\">\n      <th></th>\n      <th>PhraseId</th>\n      <th>SentenceId</th>\n      <th>Phrase</th>\n      <th>Sentiment</th>\n    </tr>\n  </thead>\n  <tbody>\n    <tr>\n      <th>259</th>\n      <td>260</td>\n      <td>10</td>\n      <td>You could hate it for the same reason .</td>\n      <td>1</td>\n    </tr>\n    <tr>\n      <th>260</th>\n      <td>261</td>\n      <td>10</td>\n      <td>could hate it for the same reason .</td>\n      <td>1</td>\n    </tr>\n    <tr>\n      <th>261</th>\n      <td>262</td>\n      <td>10</td>\n      <td>could hate it for the same reason</td>\n      <td>0</td>\n    </tr>\n    <tr>\n      <th>262</th>\n      <td>263</td>\n      <td>10</td>\n      <td>could</td>\n      <td>2</td>\n    </tr>\n    <tr>\n      <th>263</th>\n      <td>264</td>\n      <td>10</td>\n      <td>hate it for the same reason</td>\n      <td>1</td>\n    </tr>\n    <tr>\n      <th>264</th>\n      <td>265</td>\n      <td>10</td>\n      <td>hate it</td>\n      <td>0</td>\n    </tr>\n    <tr>\n      <th>265</th>\n      <td>266</td>\n      <td>10</td>\n      <td>hate</td>\n      <td>0</td>\n    </tr>\n    <tr>\n      <th>266</th>\n      <td>267</td>\n      <td>10</td>\n      <td>for the same reason</td>\n      <td>2</td>\n    </tr>\n    <tr>\n      <th>267</th>\n      <td>268</td>\n      <td>10</td>\n      <td>the same reason</td>\n      <td>2</td>\n    </tr>\n    <tr>\n      <th>268</th>\n      <td>269</td>\n      <td>10</td>\n      <td>same reason</td>\n      <td>2</td>\n    </tr>\n    <tr>\n      <th>269</th>\n      <td>270</td>\n      <td>10</td>\n      <td>same</td>\n      <td>2</td>\n    </tr>\n    <tr>\n      <th>270</th>\n      <td>271</td>\n      <td>10</td>\n      <td>reason</td>\n      <td>2</td>\n    </tr>\n  </tbody>\n</table>\n</div>"
          },
          "metadata": {}
        }
      ]
    },
    {
      "metadata": {
        "_uuid": "c2d07438660b8ec6ceda6b0c7f19a65cea81b4fe"
      },
      "cell_type": "markdown",
      "source": "Sometimes a phrase consists of just a word. Phrases differ in lengths a lot:"
    },
    {
      "metadata": {
        "trusted": true,
        "_uuid": "07cafd92396357243685fed04994375f80bee3b4"
      },
      "cell_type": "code",
      "source": "print('average phrase length is', train['Phrase'].str.len().mean())\nprint('max phrase length is', train['Phrase'].str.len().max())",
      "execution_count": 4,
      "outputs": [
        {
          "output_type": "stream",
          "text": "average phrase length is 40.217224144559786\nmax phrase length is 283\n",
          "name": "stdout"
        }
      ]
    },
    {
      "metadata": {
        "_uuid": "b893536320c9c86e3fce976a680fc73816d7f531"
      },
      "cell_type": "markdown",
      "source": "Labels are distributed as follows:"
    },
    {
      "metadata": {
        "trusted": true,
        "_uuid": "024261a1266cffd8419f40e6ba3d08f8c06d0e18"
      },
      "cell_type": "code",
      "source": "x = train.groupby(['Sentiment'])['PhraseId'].count()\nx.plot.bar()",
      "execution_count": 5,
      "outputs": [
        {
          "output_type": "execute_result",
          "execution_count": 5,
          "data": {
            "text/plain": "<matplotlib.axes._subplots.AxesSubplot at 0x7f4564bb36d8>"
          },
          "metadata": {}
        },
        {
          "output_type": "display_data",
          "data": {
            "text/plain": "<matplotlib.figure.Figure at 0x7f45634fef98>",
            "image/png": "[encoded data removed]"
          },
          "metadata": {}
        }
      ]
    },
    {
      "metadata": {
        "_uuid": "0e5e1d7365f189f5e4213523cba95f61cf8da719"
      },
      "cell_type": "markdown",
      "source": "As we can see most of the phrases are neutral or close to neutral, which makes them more difficult to classify."
    },
    {
      "metadata": {
        "_uuid": "25d2817c00a428a3baccf3b5bc93d78ac98fcb20"
      },
      "cell_type": "markdown",
      "source": "## Preprocessing"
    },
    {
      "metadata": {
        "trusted": true,
        "_uuid": "38c24794b411884fa256e61084585b4cef575adf",
        "collapsed": true
      },
      "cell_type": "code",
      "source": "MAX_LEN = 100\nEMBEDDING_DIM = 300\nMAX_FEATURES = 15000\nRANDOM_STATE = 123\nEPOCHS = 10\nBATCH_SIZE = 128",
      "execution_count": 6,
      "outputs": []
    },
    {
      "metadata": {
        "trusted": true,
        "_uuid": "dd1fdf74398dd5198be107c3ab83c3bbda5f04cc",
        "collapsed": true
      },
      "cell_type": "code",
      "source": "def preprocessing(train, test, max_len=MAX_LEN, max_features=MAX_FEATURES, train_size=0.8):\n\n    #lower\n    X = train['Phrase'].apply(lambda x: x.lower())\n    X_test = test['Phrase'].apply(lambda x: x.lower())\n    \n    #tokenizing\n    X = X.values.tolist()\n    X_test = X_test.values.tolist()\n    X_tok = X + X_test\n    tokenizer = Tokenizer(num_words=max_features, filters='')\n    tokenizer.fit_on_texts(X_tok)\n    \n    X = tokenizer.texts_to_sequences(X)\n    X_test = tokenizer.texts_to_sequences(X_test)\n    \n    #add zero padding to the left\n    X = pad_sequences(X, maxlen=max_len)\n    X_test = pad_sequences(X_test, maxlen=max_len)\n    \n    word_index = tokenizer.word_index\n    \n    y = train['Sentiment'].values\n        \n    Y = to_categorical(y)\n    X_train, X_valid, y_train, y_valid = train_test_split(X,\n                                                          Y,\n                                                          train_size=train_size,\n                                                          shuffle=True,\n                                                          random_state=RANDOM_STATE,\n                                                          stratify=y)\n    #loss_weights = [1/5 for _ in range(5)]\n    \n    return X_train, X_valid, y_train, y_valid, X_test,  word_index",
      "execution_count": 7,
      "outputs": []
    },
    {
      "metadata": {
        "_uuid": "4219bfd9fe249f983748140c4d841a8a62a31a76"
      },
      "cell_type": "markdown",
      "source": "## Models"
    },
    {
      "metadata": {
        "trusted": true,
        "_uuid": "a6e9c8e3990acaf6ee06ca26b1c09aee4214d47d",
        "collapsed": true
      },
      "cell_type": "code",
      "source": "def make_model_cnn ():\n    model = Sequential()\n\n    # Input / Embdedding\n    model.add(Embedding(MAX_FEATURES, 150, input_length=MAX_LEN))\n\n    # CNN\n    model.add(SpatialDropout1D(0.2))\n\n    model.add(Conv1D(64, kernel_size=3, padding='same', activation='relu'))\n    model.add(MaxPooling1D(pool_size=2))\n\n    model.add(Conv1D(128, kernel_size=3, padding='same', activation='relu'))\n    model.add(MaxPooling1D(pool_size=2))\n    \n\n    model.add(Flatten())\n\n    # Output layer\n    model.add(Dense(5, activation='sigmoid'))\n    return model",
      "execution_count": 8,
      "outputs": []
    },
    {
      "metadata": {
        "trusted": true,
        "_uuid": "e938e507a06f737e721aabe14de4d8750549eed6",
        "collapsed": true
      },
      "cell_type": "code",
      "source": "def make_model_lstm_cnn():\n    model=Sequential()\n    #Input/Embedding\n    model.add(Embedding(MAX_FEATURES, 300, input_length=MAX_LEN))\n    \n    #LSTM\n    model.add(LSTM(128,dropout=0.4, recurrent_dropout=0.4,return_sequences=True))\n    model.add(LSTM(64,dropout=0.5, recurrent_dropout=0.5,return_sequences=True))\n    \n    #CNN\n    model.add(SpatialDropout1D(0.2))\n\n    model.add(Conv1D(32, kernel_size=3, padding='same', activation='relu'))\n    model.add(MaxPooling1D(pool_size=2))\n\n    model.add(Conv1D(64, kernel_size=3, padding='same', activation='relu'))\n    model.add(MaxPooling1D(pool_size=2))\n    model.add(Flatten())\n    \n    #Dense/Output\n    model.add(Dense(5,activation='sigmoid'))\n    \n    return model",
      "execution_count": 9,
      "outputs": []
    },
    {
      "metadata": {
        "_uuid": "6b791f13822adbe51aec87b6f283da937443fa1b"
      },
      "cell_type": "markdown",
      "source": "### Fitting the model"
    },
    {
      "metadata": {
        "trusted": true,
        "_uuid": "8a053228ee3dc3537321a661b7090a9491b5a636"
      },
      "cell_type": "code",
      "source": "#s = reset_tf_session()  # clear default graph\nmodel = make_model_lstm_cnn()\nmodel.summary()",
      "execution_count": 10,
      "outputs": [
        {
          "output_type": "stream",
          "text": "_________________________________________________________________\nLayer (type)                 Output Shape              Param #   \n=================================================================\nembedding_1 (Embedding)      (None, 100, 300)          4500000   \n_________________________________________________________________\nlstm_1 (LSTM)                (None, 100, 128)          219648    \n_________________________________________________________________\nlstm_2 (LSTM)                (None, 100, 64)           49408     \n_________________________________________________________________\nspatial_dropout1d_1 (Spatial (None, 100, 64)           0         \n_________________________________________________________________\nconv1d_1 (Conv1D)            (None, 100, 32)           6176      \n_________________________________________________________________\nmax_pooling1d_1 (MaxPooling1 (None, 50, 32)            0         \n_________________________________________________________________\nconv1d_2 (Conv1D)            (None, 50, 64)            6208      \n_________________________________________________________________\nmax_pooling1d_2 (MaxPooling1 (None, 25, 64)            0         \n_________________________________________________________________\nflatten_1 (Flatten)          (None, 1600)              0         \n_________________________________________________________________\ndense_1 (Dense)              (None, 5)                 8005      \n=================================================================\nTotal params: 4,789,445\nTrainable params: 4,789,445\nNon-trainable params: 0\n_________________________________________________________________\n",
          "name": "stdout"
        }
      ]
    },
    {
      "metadata": {
        "trusted": true,
        "_uuid": "79a293eddc3a9be6e025d02f117c0c992f881bab"
      },
      "cell_type": "code",
      "source": "X_train, X_valid, y_train, y_valid, X_test, word_index = preprocessing(train, test)",
      "execution_count": 11,
      "outputs": [
        {
          "output_type": "stream",
          "text": "/opt/conda/lib/python3.6/site-packages/sklearn/model_selection/_split.py:2026: FutureWarning: From version 0.21, test_size will always complement train_size unless both are specified.\n  FutureWarning)\n",
          "name": "stderr"
        }
      ]
    },
    {
      "metadata": {
        "trusted": true,
        "_uuid": "167faac6823df5433e527bab55938a066c6209f6",
        "collapsed": true
      },
      "cell_type": "code",
      "source": "model.compile(loss='categorical_crossentropy', optimizer=Adam(lr=0.001), metrics=['accuracy'])\nmodel.fit(X_train, y_train, validation_data=(X_valid, y_valid), epochs=EPOCHS, batch_size=BATCH_SIZE, verbose=1)",
      "execution_count": null,
      "outputs": []
    },
    {
      "metadata": {
        "trusted": true,
        "_uuid": "aa2b56feb27f071c3dd4b8ccce7b9687f8ce2460",
        "collapsed": true
      },
      "cell_type": "code",
      "source": "sub = pd.read_csv('../input/sampleSubmission.csv')\n\nsub['Sentiment'] = model.predict_classes(test_X, batch_size=batch_size, verbose=1)\nsub.to_csv('sub_cnn.csv', index=False)",
      "execution_count": null,
      "outputs": []
    },
    {
      "metadata": {
        "_cell_guid": "79c7e3d0-c299-4dcb-8224-4455121ee9b0",
        "collapsed": true,
        "_uuid": "d629ff2d2480ee46fbb7e2d37f6b5fab8052498a",
        "trusted": false
      },
      "cell_type": "code",
      "source": "",
      "execution_count": null,
      "outputs": []
    }
  ],
  "metadata": {
    "kernelspec": {
      "display_name": "Python 3",
      "language": "python",
      "name": "python3"
    },
    "language_info": {
      "name": "python",
      "version": "3.6.4",
      "mimetype": "text/x-python",
      "codemirror_mode": {
        "name": "ipython",
        "version": 3
      },
      "pygments_lexer": "ipython3",
      "nbconvert_exporter": "python",
      "file_extension": ".py"
    }
  },
  "nbformat": 4,
  "nbformat_minor": 1
}